{
 "cells": [
  {
   "cell_type": "markdown",
   "metadata": {},
   "source": [
    "<img src=\"http://cdn3.gnarususercontent.com.br/3678-data-science-trabalhando-cientista-dados/Imagens%20das%20atividades/Aula1-img0.jpg\" />\n",
    "<img src=\"http://cdn3.gnarususercontent.com.br/3678-data-science-trabalhando-cientista-dados/Imagens%20das%20atividades/Sem%20t%C3%ADtulo.jpg\" />"
   ]
  },
  {
   "cell_type": "code",
   "execution_count": null,
   "metadata": {},
   "outputs": [],
   "source": [
    "import pandas as pd\n",
    "import matplotlib.pyplot as plt\n",
    "import seaborn as sns"
   ]
  },
  {
   "cell_type": "code",
   "execution_count": null,
   "metadata": {},
   "outputs": [],
   "source": [
    "df = pd.read_csv('https://raw.githubusercontent.com/alura-cursos/data_science_projeto/main/Dados/bicicletas.csv')"
   ]
  },
  {
   "cell_type": "code",
   "execution_count": null,
   "metadata": {},
   "outputs": [],
   "source": [
    "# Normalizando e arrumando dados https://pandas.pydata.org/docs/user_guide/missing_data.html\n",
    "\n",
    "df['temperatura'] = df['temperatura'].interpolate(method='linear') # arruma os NaN, colocando um valor linear entre os valores conhecidos, 2,00 NaN 3,00 - 2,00 2,50 3,00\n",
    "df['sensacao_termica'] = df['sensacao_termica'].interpolate(method='linear')\n",
    "df.head()"
   ]
  },
  {
   "cell_type": "code",
   "execution_count": null,
   "metadata": {},
   "outputs": [],
   "source": [
    "# lines_duplicated = df.duplicated()\n",
    "df_normalizado = df.drop_duplicates() # remove linhas duplicadas"
   ]
  },
  {
   "cell_type": "code",
   "execution_count": null,
   "metadata": {},
   "outputs": [],
   "source": [
    "df_normalizado.describe()"
   ]
  },
  {
   "cell_type": "code",
   "execution_count": null,
   "metadata": {},
   "outputs": [],
   "source": [
    "fig, axes = plt.subplots(2, 4, figsize=(15, 8))\n",
    "\n",
    "sns.histplot(ax=axes[0, 0], data= df_normalizado, x='temperatura', bins=10) # bins = quantidade de barras\n",
    "sns.histplot(ax=axes[0, 1], data= df_normalizado, x='sensacao_termica', bins=10)\n",
    "sns.histplot(ax=axes[0, 2], data= df_normalizado, x='umidade', bins=20)\n",
    "sns.histplot(ax=axes[0, 3], data= df_normalizado, x='velocidade_vento', bins=30)\n",
    "\n",
    "sns.scatterplot(ax=axes[1, 0], data= df_normalizado, x='temperatura', y='contagem') # contagem = bicicletas_alugadas\n",
    "sns.scatterplot(ax=axes[1, 1], data= df_normalizado, x='sensacao_termica', y='contagem')\n",
    "sns.scatterplot(ax=axes[1, 2], data= df_normalizado, x='umidade', y='contagem')\n",
    "sns.scatterplot(ax=axes[1, 3], data= df_normalizado, x='velocidade_vento', y='contagem')\n",
    "\n",
    "plt.show()\n",
    "\n",
    "sns.heatmap(df_normalizado.corr(numeric_only=True), annot=True, cmap='coolwarm') # correlação entre as variáveis\n",
    "\n",
    "plt.show()\n",
    "\n"
   ]
  },
  {
   "cell_type": "code",
   "execution_count": null,
   "metadata": {},
   "outputs": [],
   "source": [
    "df_normalizado.describe(include=[object]) # mostra as variáveis categóricas"
   ]
  },
  {
   "cell_type": "code",
   "execution_count": null,
   "metadata": {},
   "outputs": [],
   "source": [
    "#for col in df_normalizado.select_dtypes(include=[object]).columns: # mostra os valores únicos das variáveis categóricas\n",
    "for col in ['estacao', 'clima']: \n",
    "    print(f'{col}: {df_normalizado[col].unique()}')\n",
    "    \n",
    "fig, aux = plt.subplots(2, 1, figsize=(12, 8))\n",
    "    \n",
    "sns.barplot(data=df_normalizado, x='estacao', y='contagem', ax=aux[ 0]) # barplot = gráfico de barras\n",
    "sns.barplot(data=df_normalizado, x='contagem', y='clima', ax=aux[ 1], orient='h', width=0.5)\n",
    "\n",
    "plt.show()\n",
    "\n",
    "fig, aux2 = plt.subplots(1, 2, figsize=(12, 8))\n",
    "sns.boxplot(data=df_normalizado, x='fim_de_semana', y='contagem', ax=aux2[ 0]) # boxplot = gráfico de caixa\n",
    "sns.boxplot(data=df_normalizado, x='feriado', y='contagem', ax=aux2[1])\n",
    "\n",
    "plt.show()\n"
   ]
  },
  {
   "cell_type": "code",
   "execution_count": null,
   "metadata": {},
   "outputs": [],
   "source": [
    "df_pie = pd.concat([pd.to_datetime(df_normalizado['data_hora']).dt.hour, df_normalizado['contagem']], axis=1)\n",
    "df_pie.columns = ['hora', 'contagem']\n",
    "df_pie = df_pie.groupby('hora').sum().reset_index()\n",
    "df_pie = df_pie.set_index('hora')\n",
    "\n",
    "sns.barplot(df_pie, x=df_pie.index, y='contagem') # era para ser um gráfico de pizza, mas não ficou bom kkkk"
   ]
  },
  {
   "cell_type": "code",
   "execution_count": null,
   "metadata": {},
   "outputs": [],
   "source": [
    "mediana_feriado = df_normalizado.groupby('feriado')['contagem'].median()\n",
    "mediana_fim_semana = df_normalizado.groupby('fim_de_semana')['contagem'].median()\n",
    "\n",
    "print(f'Mediana de aluguel em feriado: {mediana_feriado}, da para concluir que tem menos alugueis em dias de feriado\\n')\n",
    "print(f'Mediana de aluguel em fim de semana: {mediana_fim_semana}')"
   ]
  }
 ],
 "metadata": {
  "kernelspec": {
   "display_name": ".venv",
   "language": "python",
   "name": "python3"
  },
  "language_info": {
   "codemirror_mode": {
    "name": "ipython",
    "version": 3
   },
   "file_extension": ".py",
   "mimetype": "text/x-python",
   "name": "python",
   "nbconvert_exporter": "python",
   "pygments_lexer": "ipython3",
   "version": "3.12.3"
  }
 },
 "nbformat": 4,
 "nbformat_minor": 2
}
